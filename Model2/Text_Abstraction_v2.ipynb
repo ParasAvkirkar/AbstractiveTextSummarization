{
 "cells": [
  {
   "cell_type": "code",
   "execution_count": 1,
   "metadata": {},
   "outputs": [
    {
     "name": "stdout",
     "output_type": "stream",
     "text": [
      "Requirement already satisfied: gensim in /home/sbu_nlp2019/anaconda3/envs/nlp/lib/python3.6/site-packages (3.8.1)\n",
      "Requirement already satisfied: numpy>=1.11.3 in /home/sbu_nlp2019/anaconda3/envs/nlp/lib/python3.6/site-packages (from gensim) (1.17.3)\n",
      "Requirement already satisfied: six>=1.5.0 in /home/sbu_nlp2019/anaconda3/envs/nlp/lib/python3.6/site-packages (from gensim) (1.13.0)\n",
      "Requirement already satisfied: smart-open>=1.8.1 in /home/sbu_nlp2019/anaconda3/envs/nlp/lib/python3.6/site-packages (from gensim) (1.9.0)\n",
      "Requirement already satisfied: scipy>=0.18.1 in /home/sbu_nlp2019/anaconda3/envs/nlp/lib/python3.6/site-packages (from gensim) (1.3.1)\n",
      "Requirement already satisfied: requests in /home/sbu_nlp2019/anaconda3/envs/nlp/lib/python3.6/site-packages (from smart-open>=1.8.1->gensim) (2.22.0)\n",
      "Requirement already satisfied: boto3 in /home/sbu_nlp2019/anaconda3/envs/nlp/lib/python3.6/site-packages (from smart-open>=1.8.1->gensim) (1.10.26)\n",
      "Requirement already satisfied: boto>=2.32 in /home/sbu_nlp2019/anaconda3/envs/nlp/lib/python3.6/site-packages (from smart-open>=1.8.1->gensim) (2.49.0)\n",
      "Requirement already satisfied: chardet<3.1.0,>=3.0.2 in /home/sbu_nlp2019/anaconda3/envs/nlp/lib/python3.6/site-packages (from requests->smart-open>=1.8.1->gensim) (3.0.4)\n",
      "Requirement already satisfied: idna<2.9,>=2.5 in /home/sbu_nlp2019/anaconda3/envs/nlp/lib/python3.6/site-packages (from requests->smart-open>=1.8.1->gensim) (2.8)\n",
      "Requirement already satisfied: urllib3!=1.25.0,!=1.25.1,<1.26,>=1.21.1 in /home/sbu_nlp2019/anaconda3/envs/nlp/lib/python3.6/site-packages (from requests->smart-open>=1.8.1->gensim) (1.25.7)\n",
      "Requirement already satisfied: certifi>=2017.4.17 in /home/sbu_nlp2019/anaconda3/envs/nlp/lib/python3.6/site-packages (from requests->smart-open>=1.8.1->gensim) (2019.9.11)\n",
      "Requirement already satisfied: jmespath<1.0.0,>=0.7.1 in /home/sbu_nlp2019/anaconda3/envs/nlp/lib/python3.6/site-packages (from boto3->smart-open>=1.8.1->gensim) (0.9.4)\n",
      "Requirement already satisfied: s3transfer<0.3.0,>=0.2.0 in /home/sbu_nlp2019/anaconda3/envs/nlp/lib/python3.6/site-packages (from boto3->smart-open>=1.8.1->gensim) (0.2.1)\n",
      "Requirement already satisfied: botocore<1.14.0,>=1.13.26 in /home/sbu_nlp2019/anaconda3/envs/nlp/lib/python3.6/site-packages (from boto3->smart-open>=1.8.1->gensim) (1.13.26)\n",
      "Requirement already satisfied: python-dateutil<2.8.1,>=2.1; python_version >= \"2.7\" in /home/sbu_nlp2019/anaconda3/envs/nlp/lib/python3.6/site-packages (from botocore<1.14.0,>=1.13.26->boto3->smart-open>=1.8.1->gensim) (2.8.0)\n",
      "Requirement already satisfied: docutils<0.16,>=0.10 in /home/sbu_nlp2019/anaconda3/envs/nlp/lib/python3.6/site-packages (from botocore<1.14.0,>=1.13.26->boto3->smart-open>=1.8.1->gensim) (0.15.2)\n",
      "Requirement already satisfied: wget in /home/sbu_nlp2019/anaconda3/envs/nlp/lib/python3.6/site-packages (3.2)\n"
     ]
    },
    {
     "name": "stderr",
     "output_type": "stream",
     "text": [
      "[nltk_data] Downloading package punkt to\n",
      "[nltk_data]     /home/sbu_nlp2019/nltk_data...\n",
      "[nltk_data]   Package punkt is already up-to-date!\n",
      "[nltk_data] Downloading package averaged_perceptron_tagger to\n",
      "[nltk_data]     /home/sbu_nlp2019/nltk_data...\n",
      "[nltk_data]   Package averaged_perceptron_tagger is already up-to-\n",
      "[nltk_data]       date!\n"
     ]
    }
   ],
   "source": [
    "\n",
    "get_ipython().system('pip install gensim')\n",
    "get_ipython().system('pip install wget')\n",
    "  \n",
    "import nltk\n",
    "nltk.download('punkt')\n",
    "nltk.download('averaged_perceptron_tagger')\n",
    "\n",
    "\n",
    "# In[1]:\n",
    "\n",
    "\n",
    "#https://stackoverflow.com/questions/38088652/pandas-convert-categories-to-numbers\n",
    "import nltk\n",
    "from nltk.tokenize import word_tokenize\n",
    "from nltk.tag import pos_tag\n",
    "\n",
    "#ex = 'European authorities fined Google a record $5.1 billion on Wednesday for abusing its power in the mobile phone market and ordered the company to alter its practices'\n",
    "\n",
    "def get_pos_tags_dict(words):\n",
    "    #sent = nltk.word_tokenize(sent)\n",
    "    #print(sent)\n",
    "    post_tags_for_words = nltk.pos_tag(words)\n",
    "\n",
    "    pos_list ={}\n",
    "    #sent = preprocess(ex)\n",
    "    for word,pos in post_tags_for_words:\n",
    "        pos_list[word] = pos\n",
    "    #print(pos_list)\n",
    "\n",
    "    import pandas as pd\n",
    "    df = pd.DataFrame(list(pos_list.items()))\n",
    "    df.columns = ['word', 'pos']\n",
    "    df.pos = pd.Categorical(df.pos)\n",
    "    df['code'] = df.pos.cat.codes\n",
    "    #print(df)\n",
    "\n",
    "    pos_list ={}\n",
    "    for index, row in df.iterrows():\n",
    "        pos_list[row['word']] = row['code']\n",
    "#     print(pos_list)\n",
    "    return pos_list , post_tags_for_words\n",
    "\n"
   ]
  },
  {
   "cell_type": "code",
   "execution_count": 5,
   "metadata": {},
   "outputs": [
    {
     "ename": "SyntaxError",
     "evalue": "invalid syntax (<ipython-input-5-e141fd1bc053>, line 6)",
     "output_type": "error",
     "traceback": [
      "\u001b[0;36m  File \u001b[0;32m\"<ipython-input-5-e141fd1bc053>\"\u001b[0;36m, line \u001b[0;32m6\u001b[0m\n\u001b[0;31m    tensorflow_version 2.x\u001b[0m\n\u001b[0m                        ^\u001b[0m\n\u001b[0;31mSyntaxError\u001b[0m\u001b[0;31m:\u001b[0m invalid syntax\n"
     ]
    }
   ],
   "source": [
    "from __future__ import absolute_import, division, print_function, unicode_literals\n",
    "\n",
    "# Install TensorFlow\n",
    "try:\n",
    "  # %tensorflow_version only exists in Colab.\n",
    "  %tensorflow_version 2.x\n",
    "except Exception:\n",
    "  pass\n",
    "\n",
    "import tensorflow as tf"
   ]
  },
  {
   "cell_type": "code",
   "execution_count": 6,
   "metadata": {},
   "outputs": [
    {
     "name": "stdout",
     "output_type": "stream",
     "text": [
      "/home/sbu_nlp2019/anaconda3/envs/nlp/lib/python3.6/site-packages/tensorflow/python/framework/dtypes.py:526: FutureWarning: Passing (type, 1) or '1type' as a synonym of type is deprecated; in a future version of numpy, it will be understood as (type, (1,)) / '(1,)type'.\n",
      "  _np_qint8 = np.dtype([(\"qint8\", np.int8, 1)])\n",
      "/home/sbu_nlp2019/anaconda3/envs/nlp/lib/python3.6/site-packages/tensorflow/python/framework/dtypes.py:527: FutureWarning: Passing (type, 1) or '1type' as a synonym of type is deprecated; in a future version of numpy, it will be understood as (type, (1,)) / '(1,)type'.\n",
      "  _np_quint8 = np.dtype([(\"quint8\", np.uint8, 1)])\n",
      "/home/sbu_nlp2019/anaconda3/envs/nlp/lib/python3.6/site-packages/tensorflow/python/framework/dtypes.py:528: FutureWarning: Passing (type, 1) or '1type' as a synonym of type is deprecated; in a future version of numpy, it will be understood as (type, (1,)) / '(1,)type'.\n",
      "  _np_qint16 = np.dtype([(\"qint16\", np.int16, 1)])\n",
      "/home/sbu_nlp2019/anaconda3/envs/nlp/lib/python3.6/site-packages/tensorflow/python/framework/dtypes.py:529: FutureWarning: Passing (type, 1) or '1type' as a synonym of type is deprecated; in a future version of numpy, it will be understood as (type, (1,)) / '(1,)type'.\n",
      "  _np_quint16 = np.dtype([(\"quint16\", np.uint16, 1)])\n",
      "/home/sbu_nlp2019/anaconda3/envs/nlp/lib/python3.6/site-packages/tensorflow/python/framework/dtypes.py:530: FutureWarning: Passing (type, 1) or '1type' as a synonym of type is deprecated; in a future version of numpy, it will be understood as (type, (1,)) / '(1,)type'.\n",
      "  _np_qint32 = np.dtype([(\"qint32\", np.int32, 1)])\n",
      "/home/sbu_nlp2019/anaconda3/envs/nlp/lib/python3.6/site-packages/tensorflow/python/framework/dtypes.py:535: FutureWarning: Passing (type, 1) or '1type' as a synonym of type is deprecated; in a future version of numpy, it will be understood as (type, (1,)) / '(1,)type'.\n",
      "  np_resource = np.dtype([(\"resource\", np.ubyte, 1)])\n",
      "1.13.1\n"
     ]
    }
   ],
   "source": [
    "!python3 -c 'import tensorflow as tf; print(tf.__version__)'  # for Python 3"
   ]
  },
  {
   "cell_type": "code",
   "execution_count": null,
   "metadata": {},
   "outputs": [],
   "source": []
  }
 ],
 "metadata": {
  "kernelspec": {
   "display_name": "Python 3",
   "language": "python",
   "name": "python3"
  },
  "language_info": {
   "codemirror_mode": {
    "name": "ipython",
    "version": 3
   },
   "file_extension": ".py",
   "mimetype": "text/x-python",
   "name": "python",
   "nbconvert_exporter": "python",
   "pygments_lexer": "ipython3",
   "version": "3.6.9"
  }
 },
 "nbformat": 4,
 "nbformat_minor": 4
}
